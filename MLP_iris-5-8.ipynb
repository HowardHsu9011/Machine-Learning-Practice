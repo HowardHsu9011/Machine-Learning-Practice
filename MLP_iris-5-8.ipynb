{
 "cells": [
  {
   "cell_type": "code",
   "execution_count": 6,
   "id": "380adf4b",
   "metadata": {},
   "outputs": [
    {
     "name": "stdout",
     "output_type": "stream",
     "text": [
      "               Id  SepalLengthCm  SepalWidthCm  PetalLengthCm  PetalWidthCm\n",
      "count  150.000000     150.000000    150.000000     150.000000    150.000000\n",
      "mean    75.500000       5.843333      3.054000       3.758667      1.198667\n",
      "std     43.445368       0.828066      0.433594       1.764420      0.763161\n",
      "min      1.000000       4.300000      2.000000       1.000000      0.100000\n",
      "25%     38.250000       5.100000      2.800000       1.600000      0.300000\n",
      "50%     75.500000       5.800000      3.000000       4.350000      1.300000\n",
      "75%    112.750000       6.400000      3.300000       5.100000      1.800000\n",
      "max    150.000000       7.900000      4.400000       6.900000      2.500000\n"
     ]
    }
   ],
   "source": [
    "# Practice 5\n",
    "import numpy as np\n",
    "import pandas as pd\n",
    "data = pd.read_csv('iris.csv')\n",
    "# print(np.mean(data)) # np.mean是各個欄位的平均數\n",
    "#我想知道的是百分位數、平均數等等的統計數據，要用什麼指令呢\n",
    "print(data.describe()) #原來是 數據集.describe()"
   ]
  },
  {
   "cell_type": "code",
   "execution_count": 13,
   "id": "000da48a",
   "metadata": {},
   "outputs": [
    {
     "name": "stdout",
     "output_type": "stream",
     "text": [
      "Observations of each species:\n",
      "Iris-setosa        50\n",
      "Iris-virginica     50\n",
      "Iris-versicolor    50\n",
      "Name: Species, dtype: int64\n"
     ]
    }
   ],
   "source": [
    "# Practice 6  \n",
    "# Write a Python program to get observations of each species (setosa, versicolor, virginica) from iris data\n",
    "# 如何針對特定欄位的數值去做計算抓取\n",
    "print(\"Observations of each species:\")\n",
    "print(data['Species'].value_counts()) #原來是 data['指定欄位名稱'].value_counts()"
   ]
  },
  {
   "cell_type": "code",
   "execution_count": 22,
   "id": "03c601eb",
   "metadata": {
    "scrolled": true
   },
   "outputs": [
    {
     "name": "stdout",
     "output_type": "stream",
     "text": [
      "   SepalLengthCm  SepalWidthCm  PetalLengthCm  PetalWidthCm      Species\n",
      "0            5.1           3.5            1.4           0.2  Iris-setosa\n",
      "1            4.9           3.0            1.4           0.2  Iris-setosa\n",
      "2            4.7           3.2            1.3           0.2  Iris-setosa\n",
      "3            4.6           3.1            1.5           0.2  Iris-setosa\n",
      "4            5.0           3.6            1.4           0.2  Iris-setosa\n",
      "\n",
      "    SepalLengthCm  SepalWidthCm  PetalLengthCm  PetalWidthCm      Species\n",
      "0            5.1           3.5            1.4           0.2  Iris-setosa\n",
      "1            4.9           3.0            1.4           0.2  Iris-setosa\n",
      "2            4.7           3.2            1.3           0.2  Iris-setosa\n",
      "3            4.6           3.1            1.5           0.2  Iris-setosa\n",
      "4            5.0           3.6            1.4           0.2  Iris-setosa\n",
      "\n",
      "    Id  SepalLengthCm  SepalWidthCm  PetalLengthCm  PetalWidthCm      Species\n",
      "2   3            4.7           3.2            1.3           0.2  Iris-setosa\n",
      "3   4            4.6           3.1            1.5           0.2  Iris-setosa\n",
      "4   5            5.0           3.6            1.4           0.2  Iris-setosa\n",
      "5   6            5.4           3.9            1.7           0.4  Iris-setosa\n",
      "6   7            4.6           3.4            1.4           0.3  Iris-setosa\n"
     ]
    }
   ],
   "source": [
    "# Practive 7\n",
    "# drop Id column from a given Dataframe and print the modified part. Call iris.csv to create the Dataframe.\n",
    "data_drop = data.drop('Id', axis = 1) # axis=1 代表要刪除列(縱軸), 沒寫的話默認是axis=0 會刪除行\n",
    "data_drop2 = data.drop(columns='Id') # 這裡是另一種作法, 直接指定要刪除哪個columns \n",
    "data_drop_l = data.drop([0,1]) # 刪除行的方式,[0,1]是刪除第0、1行, 可看到印出來後確實不見了\n",
    "print(data_drop.head())\n",
    "print('\\n', data_drop2.head())\n",
    "print('\\n', data_drop_l.head())"
   ]
  },
  {
   "cell_type": "code",
   "execution_count": 56,
   "id": "f79b913d",
   "metadata": {},
   "outputs": [
    {
     "name": "stdout",
     "output_type": "stream",
     "text": [
      "   SepalLengthCm  SepalWidthCm  PetalLengthCm\n",
      "0            5.1           3.5            1.4\n",
      "1            4.9           3.0            1.4\n",
      "2            4.7           3.2            1.3\n",
      "3            4.6           3.1            1.5\n",
      "4            5.0           3.6            1.4\n",
      "5            5.4           3.9            1.7\n"
     ]
    }
   ],
   "source": [
    "# Practice 8\n",
    "# Write a Python program to access first four cells from a given Dataframe using the index and column labels.\n",
    "# Call iris.csv to create the Dataframe\n",
    "print(data_drop.iloc[0:6,0:3])"
   ]
  },
  {
   "cell_type": "code",
   "execution_count": null,
   "id": "31429598",
   "metadata": {},
   "outputs": [],
   "source": []
  }
 ],
 "metadata": {
  "kernelspec": {
   "display_name": "Python 3",
   "language": "python",
   "name": "python3"
  },
  "language_info": {
   "codemirror_mode": {
    "name": "ipython",
    "version": 3
   },
   "file_extension": ".py",
   "mimetype": "text/x-python",
   "name": "python",
   "nbconvert_exporter": "python",
   "pygments_lexer": "ipython3",
   "version": "3.8.8"
  }
 },
 "nbformat": 4,
 "nbformat_minor": 5
}
